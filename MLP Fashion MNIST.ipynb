{
 "cells": [
  {
   "cell_type": "markdown",
   "id": "d21e2c8d",
   "metadata": {
    "pycharm": {
     "name": "#%% md\n"
    }
   },
   "source": [
    "# Multi Layer Perceptron on Fashion MNIST Datset\n",
    "\n",
    "[Dataset on kaggle](https://www.kaggle.com/datasets/zalando-research/fashionmnist)\n",
    "\n",
    "## Contents\n",
    "* Data Cleaning\n",
    "* Data Preprocessing\n",
    "* Modeling\n",
    "* Evaluation"
   ]
  },
  {
   "cell_type": "code",
   "execution_count": 1,
   "id": "78197753",
   "metadata": {
    "pycharm": {
     "name": "#%%\n"
    }
   },
   "outputs": [],
   "source": [
    "import pandas as pd\n",
    "from matplotlib import pyplot as plt\n",
    "from tensorflow import keras"
   ]
  },
  {
   "cell_type": "code",
   "execution_count": 3,
   "id": "6c50b1ec",
   "metadata": {
    "pycharm": {
     "name": "#%%\n"
    }
   },
   "outputs": [],
   "source": [
    "data_train = pd.read_csv('fashion-mnist_train.csv')\n",
    "data_test = pd.read_csv('fashion-mnist_test.csv')"
   ]
  },
  {
   "cell_type": "code",
   "execution_count": 5,
   "id": "fd7d6112",
   "metadata": {
    "pycharm": {
     "name": "#%%\n"
    }
   },
   "outputs": [
    {
     "data": {
      "text/plain": [
       "(60000, 785)"
      ]
     },
     "execution_count": 5,
     "metadata": {},
     "output_type": "execute_result"
    }
   ],
   "source": [
    "data_train.shape"
   ]
  },
  {
   "cell_type": "code",
   "execution_count": 7,
   "id": "c378d4a5",
   "metadata": {
    "pycharm": {
     "name": "#%%\n"
    }
   },
   "outputs": [
    {
     "data": {
      "text/html": [
       "<div>\n",
       "<style scoped>\n",
       "    .dataframe tbody tr th:only-of-type {\n",
       "        vertical-align: middle;\n",
       "    }\n",
       "\n",
       "    .dataframe tbody tr th {\n",
       "        vertical-align: top;\n",
       "    }\n",
       "\n",
       "    .dataframe thead th {\n",
       "        text-align: right;\n",
       "    }\n",
       "</style>\n",
       "<table border=\"1\" class=\"dataframe\">\n",
       "  <thead>\n",
       "    <tr style=\"text-align: right;\">\n",
       "      <th></th>\n",
       "      <th>label</th>\n",
       "      <th>pixel1</th>\n",
       "      <th>pixel2</th>\n",
       "      <th>pixel3</th>\n",
       "      <th>pixel4</th>\n",
       "      <th>pixel5</th>\n",
       "      <th>pixel6</th>\n",
       "      <th>pixel7</th>\n",
       "      <th>pixel8</th>\n",
       "      <th>pixel9</th>\n",
       "      <th>...</th>\n",
       "      <th>pixel775</th>\n",
       "      <th>pixel776</th>\n",
       "      <th>pixel777</th>\n",
       "      <th>pixel778</th>\n",
       "      <th>pixel779</th>\n",
       "      <th>pixel780</th>\n",
       "      <th>pixel781</th>\n",
       "      <th>pixel782</th>\n",
       "      <th>pixel783</th>\n",
       "      <th>pixel784</th>\n",
       "    </tr>\n",
       "  </thead>\n",
       "  <tbody>\n",
       "    <tr>\n",
       "      <th>0</th>\n",
       "      <td>2</td>\n",
       "      <td>0</td>\n",
       "      <td>0</td>\n",
       "      <td>0</td>\n",
       "      <td>0</td>\n",
       "      <td>0</td>\n",
       "      <td>0</td>\n",
       "      <td>0</td>\n",
       "      <td>0</td>\n",
       "      <td>0</td>\n",
       "      <td>...</td>\n",
       "      <td>0</td>\n",
       "      <td>0</td>\n",
       "      <td>0</td>\n",
       "      <td>0</td>\n",
       "      <td>0</td>\n",
       "      <td>0</td>\n",
       "      <td>0</td>\n",
       "      <td>0</td>\n",
       "      <td>0</td>\n",
       "      <td>0</td>\n",
       "    </tr>\n",
       "    <tr>\n",
       "      <th>1</th>\n",
       "      <td>9</td>\n",
       "      <td>0</td>\n",
       "      <td>0</td>\n",
       "      <td>0</td>\n",
       "      <td>0</td>\n",
       "      <td>0</td>\n",
       "      <td>0</td>\n",
       "      <td>0</td>\n",
       "      <td>0</td>\n",
       "      <td>0</td>\n",
       "      <td>...</td>\n",
       "      <td>0</td>\n",
       "      <td>0</td>\n",
       "      <td>0</td>\n",
       "      <td>0</td>\n",
       "      <td>0</td>\n",
       "      <td>0</td>\n",
       "      <td>0</td>\n",
       "      <td>0</td>\n",
       "      <td>0</td>\n",
       "      <td>0</td>\n",
       "    </tr>\n",
       "    <tr>\n",
       "      <th>2</th>\n",
       "      <td>6</td>\n",
       "      <td>0</td>\n",
       "      <td>0</td>\n",
       "      <td>0</td>\n",
       "      <td>0</td>\n",
       "      <td>0</td>\n",
       "      <td>0</td>\n",
       "      <td>0</td>\n",
       "      <td>5</td>\n",
       "      <td>0</td>\n",
       "      <td>...</td>\n",
       "      <td>0</td>\n",
       "      <td>0</td>\n",
       "      <td>0</td>\n",
       "      <td>30</td>\n",
       "      <td>43</td>\n",
       "      <td>0</td>\n",
       "      <td>0</td>\n",
       "      <td>0</td>\n",
       "      <td>0</td>\n",
       "      <td>0</td>\n",
       "    </tr>\n",
       "  </tbody>\n",
       "</table>\n",
       "<p>3 rows × 785 columns</p>\n",
       "</div>"
      ],
      "text/plain": [
       "   label  pixel1  pixel2  pixel3  pixel4  pixel5  pixel6  pixel7  pixel8  \\\n",
       "0      2       0       0       0       0       0       0       0       0   \n",
       "1      9       0       0       0       0       0       0       0       0   \n",
       "2      6       0       0       0       0       0       0       0       5   \n",
       "\n",
       "   pixel9  ...  pixel775  pixel776  pixel777  pixel778  pixel779  pixel780  \\\n",
       "0       0  ...         0         0         0         0         0         0   \n",
       "1       0  ...         0         0         0         0         0         0   \n",
       "2       0  ...         0         0         0        30        43         0   \n",
       "\n",
       "   pixel781  pixel782  pixel783  pixel784  \n",
       "0         0         0         0         0  \n",
       "1         0         0         0         0  \n",
       "2         0         0         0         0  \n",
       "\n",
       "[3 rows x 785 columns]"
      ]
     },
     "execution_count": 7,
     "metadata": {},
     "output_type": "execute_result"
    }
   ],
   "source": [
    "data_train.head(3)"
   ]
  },
  {
   "cell_type": "markdown",
   "id": "67226d31",
   "metadata": {
    "pycharm": {
     "name": "#%% md\n"
    }
   },
   "source": [
    "### Data Cleaning"
   ]
  },
  {
   "cell_type": "code",
   "execution_count": 11,
   "id": "4c2f104b",
   "metadata": {
    "pycharm": {
     "name": "#%%\n"
    }
   },
   "outputs": [],
   "source": [
    "X_train = data_train.drop(['label'], axis=1).values\n",
    "y_train = data_train['label'].values\n",
    "del data_train"
   ]
  },
  {
   "cell_type": "code",
   "execution_count": 12,
   "id": "a08f0c5f",
   "metadata": {
    "pycharm": {
     "name": "#%%\n"
    }
   },
   "outputs": [],
   "source": [
    "X_test = data_test.drop(['label'], axis=1).values\n",
    "y_test = data_test['label'].values\n",
    "del data_test"
   ]
  },
  {
   "cell_type": "code",
   "execution_count": 15,
   "id": "5fab787e",
   "metadata": {
    "pycharm": {
     "name": "#%%\n"
    }
   },
   "outputs": [
    {
     "data": {
      "image/png": "[encoded data removed]",
      "text/plain": [
       "<Figure size 432x288 with 1 Axes>"
      ]
     },
     "metadata": {
      "needs_background": "light"
     },
     "output_type": "display_data"
    }
   ],
   "source": [
    "plt.imshow(X_train[1].reshape(28, 28), cmap='gray')\n",
    "plt.show()"
   ]
  },
  {
   "cell_type": "markdown",
   "id": "54bcc397",
   "metadata": {
    "pycharm": {
     "name": "#%% md\n"
    }
   },
   "source": [
    "### Data Preprocessing\n",
    "* Scaling\n",
    "* Encoding"
   ]
  },
  {
   "cell_type": "code",
   "execution_count": 14,
   "id": "6f5c18de",
   "metadata": {
    "pycharm": {
     "name": "#%%\n"
    }
   },
   "outputs": [],
   "source": [
    "X_train = X_train / 255.0\n",
    "X_test = X_test / 255.0"
   ]
  },
  {
   "cell_type": "code",
   "execution_count": 16,
   "id": "080f015f",
   "metadata": {
    "pycharm": {
     "name": "#%%\n"
    }
   },
   "outputs": [],
   "source": [
    "y_train = pd.get_dummies(y_train).values\n",
    "y_test = pd.get_dummies(y_test).values"
   ]
  },
  {
   "cell_type": "code",
   "execution_count": 17,
   "id": "8a424a56",
   "metadata": {
    "pycharm": {
     "name": "#%%\n"
    }
   },
   "outputs": [
    {
     "data": {
      "text/plain": [
       "(60000, 784)"
      ]
     },
     "execution_count": 17,
     "metadata": {},
     "output_type": "execute_result"
    }
   ],
   "source": [
    "X_train.shape"
   ]
  },
  {
   "cell_type": "code",
   "execution_count": 18,
   "id": "972e55ca",
   "metadata": {
    "pycharm": {
     "name": "#%%\n"
    }
   },
   "outputs": [
    {
     "data": {
      "text/plain": [
       "(10000, 784)"
      ]
     },
     "execution_count": 18,
     "metadata": {},
     "output_type": "execute_result"
    }
   ],
   "source": [
    "X_test.shape"
   ]
  },
  {
   "cell_type": "code",
   "execution_count": 19,
   "id": "3d6662ab",
   "metadata": {
    "pycharm": {
     "name": "#%%\n"
    }
   },
   "outputs": [
    {
     "data": {
      "text/plain": [
       "(60000, 10)"
      ]
     },
     "execution_count": 19,
     "metadata": {},
     "output_type": "execute_result"
    }
   ],
   "source": [
    "y_train.shape"
   ]
  },
  {
   "cell_type": "code",
   "execution_count": 20,
   "id": "0733cba8",
   "metadata": {
    "pycharm": {
     "name": "#%%\n"
    }
   },
   "outputs": [
    {
     "data": {
      "text/plain": [
       "(10000, 10)"
      ]
     },
     "execution_count": 20,
     "metadata": {},
     "output_type": "execute_result"
    }
   ],
   "source": [
    "y_test.shape"
   ]
  },
  {
   "cell_type": "markdown",
   "id": "2234aea8",
   "metadata": {
    "pycharm": {
     "name": "#%% md\n"
    }
   },
   "source": [
    "### Modeling\n",
    "* Callbacks: EarlyStopping\n",
    "* Input layer: 300 units with relu activation and 0.3 dropout\n",
    "* Hidden layers: 2 hidden layers with relu activation, first layer has 50 units with 0.2 dropout and second layer has 10 units\n",
    "* Output layer: 10 units with softmax activation\n",
    "* Optimizer: Adam\n",
    "* Loss: CategoricalCrossentropy\n",
    "* Metric: CategoricalAccuracy"
   ]
  },
  {
   "cell_type": "code",
   "execution_count": 21,
   "id": "340a47f0",
   "metadata": {
    "pycharm": {
     "name": "#%%\n"
    }
   },
   "outputs": [],
   "source": [
    "es = keras.callbacks.EarlyStopping(monitor='val_loss', patience=3)"
   ]
  },
  {
   "cell_type": "code",
   "execution_count": 24,
   "id": "672148ae",
   "metadata": {
    "pycharm": {
     "name": "#%%\n"
    }
   },
   "outputs": [],
   "source": [
    "model = keras.models.Sequential([\n",
    "    keras.layers.Dense(units=300, activation='relu', input_shape=(784,)),\n",
    "    keras.layers.Dropout(0.3),\n",
    "    keras.layers.Dense(units=50, activation='relu'),\n",
    "    keras.layers.Dropout(0.2),\n",
    "    keras.layers.Dense(units=10, activation='relu'),\n",
    "    keras.layers.Dense(units=10, activation='softmax')\n",
    "])"
   ]
  },
  {
   "cell_type": "code",
   "execution_count": 26,
   "id": "82f8cb34",
   "metadata": {
    "pycharm": {
     "name": "#%%\n"
    }
   },
   "outputs": [],
   "source": [
    "model.compile(optimizer=keras.optimizers.Adam(0.001), loss=keras.losses.CategoricalCrossentropy(),\n",
    "              metrics=[keras.metrics.CategoricalAccuracy()])"
   ]
  },
  {
   "cell_type": "code",
   "execution_count": 27,
   "id": "7e71e2a3",
   "metadata": {
    "pycharm": {
     "name": "#%%\n"
    }
   },
   "outputs": [
    {
     "name": "stdout",
     "output_type": "stream",
     "text": [
      "Model: \"sequential\"\n",
      "_________________________________________________________________\n",
      " Layer (type)                Output Shape              Param #   \n",
      "=================================================================\n",
      " dense (Dense)               (None, 300)               235500    \n",
      "                                                                 \n",
      " dropout (Dropout)           (None, 300)               0         \n",
      "                                                                 \n",
      " dense_1 (Dense)             (None, 50)                15050     \n",
      "                                                                 \n",
      " dropout_1 (Dropout)         (None, 50)                0         \n",
      "                                                                 \n",
      " dense_2 (Dense)             (None, 10)                510       \n",
      "                                                                 \n",
      " dense_3 (Dense)             (None, 10)                110       \n",
      "                                                                 \n",
      "=================================================================\n",
      "Total params: 251,170\n",
      "Trainable params: 251,170\n",
      "Non-trainable params: 0\n",
      "_________________________________________________________________\n"
     ]
    }
   ],
   "source": [
    "model.summary()"
   ]
  },
  {
   "cell_type": "code",
   "execution_count": 28,
   "id": "077ebb7b",
   "metadata": {
    "pycharm": {
     "name": "#%%\n"
    }
   },
   "outputs": [
    {
     "name": "stdout",
     "output_type": "stream",
     "text": [
      "Epoch 1/30\n",
      "300/300 [==============================] - 3s 7ms/step - loss: 0.7993 - categorical_accuracy: 0.7245 - val_loss: 0.4622 - val_categorical_accuracy: 0.8379\n",
      "Epoch 2/30\n",
      "300/300 [==============================] - 2s 6ms/step - loss: 0.4767 - categorical_accuracy: 0.8313 - val_loss: 0.3887 - val_categorical_accuracy: 0.8612\n",
      "Epoch 3/30\n",
      "300/300 [==============================] - 2s 6ms/step - loss: 0.4214 - categorical_accuracy: 0.8504 - val_loss: 0.3666 - val_categorical_accuracy: 0.8648\n",
      "Epoch 4/30\n",
      "300/300 [==============================] - 2s 6ms/step - loss: 0.3950 - categorical_accuracy: 0.8584 - val_loss: 0.3473 - val_categorical_accuracy: 0.8738\n",
      "Epoch 5/30\n",
      "300/300 [==============================] - 2s 6ms/step - loss: 0.3752 - categorical_accuracy: 0.8654 - val_loss: 0.3380 - val_categorical_accuracy: 0.8741\n",
      "Epoch 6/30\n",
      "300/300 [==============================] - 2s 6ms/step - loss: 0.3568 - categorical_accuracy: 0.8703 - val_loss: 0.3222 - val_categorical_accuracy: 0.8805\n",
      "Epoch 7/30\n",
      "300/300 [==============================] - 2s 6ms/step - loss: 0.3430 - categorical_accuracy: 0.8750 - val_loss: 0.3208 - val_categorical_accuracy: 0.8812\n",
      "Epoch 8/30\n",
      "300/300 [==============================] - 2s 6ms/step - loss: 0.3360 - categorical_accuracy: 0.8789 - val_loss: 0.3208 - val_categorical_accuracy: 0.8815\n",
      "Epoch 9/30\n",
      "300/300 [==============================] - 2s 6ms/step - loss: 0.3246 - categorical_accuracy: 0.8814 - val_loss: 0.3124 - val_categorical_accuracy: 0.8853\n",
      "Epoch 10/30\n",
      "300/300 [==============================] - 2s 6ms/step - loss: 0.3200 - categorical_accuracy: 0.8845 - val_loss: 0.3080 - val_categorical_accuracy: 0.8869\n",
      "Epoch 11/30\n",
      "300/300 [==============================] - 2s 6ms/step - loss: 0.3119 - categorical_accuracy: 0.8856 - val_loss: 0.3112 - val_categorical_accuracy: 0.8864\n",
      "Epoch 12/30\n",
      "300/300 [==============================] - 2s 7ms/step - loss: 0.3057 - categorical_accuracy: 0.8886 - val_loss: 0.3066 - val_categorical_accuracy: 0.8896\n",
      "Epoch 13/30\n",
      "300/300 [==============================] - 2s 7ms/step - loss: 0.2980 - categorical_accuracy: 0.8911 - val_loss: 0.3036 - val_categorical_accuracy: 0.8903\n",
      "Epoch 14/30\n",
      "300/300 [==============================] - 2s 6ms/step - loss: 0.2954 - categorical_accuracy: 0.8920 - val_loss: 0.2933 - val_categorical_accuracy: 0.8918\n",
      "Epoch 15/30\n",
      "300/300 [==============================] - 2s 6ms/step - loss: 0.2886 - categorical_accuracy: 0.8941 - val_loss: 0.3021 - val_categorical_accuracy: 0.8900\n",
      "Epoch 16/30\n",
      "300/300 [==============================] - 2s 7ms/step - loss: 0.2855 - categorical_accuracy: 0.8950 - val_loss: 0.2983 - val_categorical_accuracy: 0.8921\n",
      "Epoch 17/30\n",
      "300/300 [==============================] - 2s 6ms/step - loss: 0.2786 - categorical_accuracy: 0.8968 - val_loss: 0.2949 - val_categorical_accuracy: 0.8932\n"
     ]
    }
   ],
   "source": [
    "history = model.fit(X_train, y_train, epochs=30, batch_size=200, validation_data=(X_test, y_test), callbacks=[es])"
   ]
  },
  {
   "cell_type": "markdown",
   "id": "2843b34b",
   "metadata": {
    "pycharm": {
     "name": "#%% md\n"
    }
   },
   "source": [
    "### Evaluation"
   ]
  },
  {
   "cell_type": "code",
   "execution_count": 29,
   "id": "118e4ee2",
   "metadata": {
    "pycharm": {
     "name": "#%%\n"
    }
   },
   "outputs": [
    {
     "data": {
      "image/png": "[encoded data removed]",
      "text/plain": [
       "<Figure size 432x288 with 1 Axes>"
      ]
     },
     "metadata": {
      "needs_background": "light"
     },
     "output_type": "display_data"
    }
   ],
   "source": [
    "plt.plot(history.history['loss'], color='green', label='Train Data')\n",
    "plt.plot(history.history['val_loss'], color='blue', label='Validation Data')\n",
    "plt.title('Loss Function')\n",
    "plt.legend()\n",
    "plt.show()"
   ]
  },
  {
   "cell_type": "code",
   "execution_count": 30,
   "id": "c7319459",
   "metadata": {
    "pycharm": {
     "name": "#%%\n"
    }
   },
   "outputs": [
    {
     "data": {
      "image/png": "[encoded data removed]",
      "text/plain": [
       "<Figure size 432x288 with 1 Axes>"
      ]
     },
     "metadata": {
      "needs_background": "light"
     },
     "output_type": "display_data"
    }
   ],
   "source": [
    "plt.plot(history.history['categorical_accuracy'], color='green', label='Train Data')\n",
    "plt.plot(history.history['val_categorical_accuracy'], color='blue', label='Validation Data')\n",
    "plt.title('Accuracy Function')\n",
    "plt.legend()\n",
    "plt.show()"
   ]
  },
  {
   "cell_type": "code",
   "execution_count": null,
   "id": "4cb08476",
   "metadata": {
    "pycharm": {
     "name": "#%%\n"
    }
   },
   "outputs": [],
   "source": []
  }
 ],
 "metadata": {
  "kernelspec": {
   "display_name": "Python 3 (ipykernel)",
   "language": "python",
   "name": "python3"
  },
  "language_info": {
   "codemirror_mode": {
    "name": "ipython",
    "version": 3
   },
   "file_extension": ".py",
   "mimetype": "text/x-python",
   "name": "python",
   "nbconvert_exporter": "python",
   "pygments_lexer": "ipython3",
   "version": "3.9.12"
  }
 },
 "nbformat": 4,
 "nbformat_minor": 5
}